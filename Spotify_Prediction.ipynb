{
 "cells": [
  {
   "cell_type": "code",
   "execution_count": 37,
   "metadata": {
    "id": "SoMMl3qwKI3e"
   },
   "outputs": [],
   "source": [
    "import pandas as pd"
   ]
  },
  {
   "cell_type": "code",
   "execution_count": 38,
   "metadata": {
    "id": "Xxqpf98iKI6S"
   },
   "outputs": [],
   "source": [
    "df = pd.read_csv(\"spotify_millsongdata.csv\")"
   ]
  },
  {
   "cell_type": "code",
   "execution_count": 39,
   "metadata": {
    "colab": {
     "base_uri": "https://localhost:8080/",
     "height": 206
    },
    "id": "6_MlVKqa-5mD",
    "outputId": "55e0bff4-9bf3-4a90-de33-cf084c7647ab"
   },
   "outputs": [
    {
     "data": {
      "text/html": [
       "<div>\n",
       "<style scoped>\n",
       "    .dataframe tbody tr th:only-of-type {\n",
       "        vertical-align: middle;\n",
       "    }\n",
       "\n",
       "    .dataframe tbody tr th {\n",
       "        vertical-align: top;\n",
       "    }\n",
       "\n",
       "    .dataframe thead th {\n",
       "        text-align: right;\n",
       "    }\n",
       "</style>\n",
       "<table border=\"1\" class=\"dataframe\">\n",
       "  <thead>\n",
       "    <tr style=\"text-align: right;\">\n",
       "      <th></th>\n",
       "      <th>artist</th>\n",
       "      <th>song</th>\n",
       "      <th>link</th>\n",
       "      <th>text</th>\n",
       "    </tr>\n",
       "  </thead>\n",
       "  <tbody>\n",
       "    <tr>\n",
       "      <th>0</th>\n",
       "      <td>ABBA</td>\n",
       "      <td>Ahe's My Kind Of Girl</td>\n",
       "      <td>/a/abba/ahes+my+kind+of+girl_20598417.html</td>\n",
       "      <td>Look at her face, it's a wonderful face  \\r\\nA...</td>\n",
       "    </tr>\n",
       "    <tr>\n",
       "      <th>1</th>\n",
       "      <td>ABBA</td>\n",
       "      <td>Andante, Andante</td>\n",
       "      <td>/a/abba/andante+andante_20002708.html</td>\n",
       "      <td>Take it easy with me, please  \\r\\nTouch me gen...</td>\n",
       "    </tr>\n",
       "    <tr>\n",
       "      <th>2</th>\n",
       "      <td>ABBA</td>\n",
       "      <td>As Good As New</td>\n",
       "      <td>/a/abba/as+good+as+new_20003033.html</td>\n",
       "      <td>I'll never know why I had to go  \\r\\nWhy I had...</td>\n",
       "    </tr>\n",
       "    <tr>\n",
       "      <th>3</th>\n",
       "      <td>ABBA</td>\n",
       "      <td>Bang</td>\n",
       "      <td>/a/abba/bang_20598415.html</td>\n",
       "      <td>Making somebody happy is a question of give an...</td>\n",
       "    </tr>\n",
       "    <tr>\n",
       "      <th>4</th>\n",
       "      <td>ABBA</td>\n",
       "      <td>Bang-A-Boomerang</td>\n",
       "      <td>/a/abba/bang+a+boomerang_20002668.html</td>\n",
       "      <td>Making somebody happy is a question of give an...</td>\n",
       "    </tr>\n",
       "  </tbody>\n",
       "</table>\n",
       "</div>"
      ],
      "text/plain": [
       "  artist                   song                                        link  \\\n",
       "0   ABBA  Ahe's My Kind Of Girl  /a/abba/ahes+my+kind+of+girl_20598417.html   \n",
       "1   ABBA       Andante, Andante       /a/abba/andante+andante_20002708.html   \n",
       "2   ABBA         As Good As New        /a/abba/as+good+as+new_20003033.html   \n",
       "3   ABBA                   Bang                  /a/abba/bang_20598415.html   \n",
       "4   ABBA       Bang-A-Boomerang      /a/abba/bang+a+boomerang_20002668.html   \n",
       "\n",
       "                                                text  \n",
       "0  Look at her face, it's a wonderful face  \\r\\nA...  \n",
       "1  Take it easy with me, please  \\r\\nTouch me gen...  \n",
       "2  I'll never know why I had to go  \\r\\nWhy I had...  \n",
       "3  Making somebody happy is a question of give an...  \n",
       "4  Making somebody happy is a question of give an...  "
      ]
     },
     "execution_count": 39,
     "metadata": {},
     "output_type": "execute_result"
    }
   ],
   "source": [
    "df.head()"
   ]
  },
  {
   "cell_type": "code",
   "execution_count": 40,
   "metadata": {
    "colab": {
     "base_uri": "https://localhost:8080/",
     "height": 206
    },
    "id": "CXWxbQI7-9aU",
    "outputId": "fd4509f6-d275-45c0-c149-0c1c5421af27"
   },
   "outputs": [
    {
     "data": {
      "text/html": [
       "<div>\n",
       "<style scoped>\n",
       "    .dataframe tbody tr th:only-of-type {\n",
       "        vertical-align: middle;\n",
       "    }\n",
       "\n",
       "    .dataframe tbody tr th {\n",
       "        vertical-align: top;\n",
       "    }\n",
       "\n",
       "    .dataframe thead th {\n",
       "        text-align: right;\n",
       "    }\n",
       "</style>\n",
       "<table border=\"1\" class=\"dataframe\">\n",
       "  <thead>\n",
       "    <tr style=\"text-align: right;\">\n",
       "      <th></th>\n",
       "      <th>artist</th>\n",
       "      <th>song</th>\n",
       "      <th>link</th>\n",
       "      <th>text</th>\n",
       "    </tr>\n",
       "  </thead>\n",
       "  <tbody>\n",
       "    <tr>\n",
       "      <th>57645</th>\n",
       "      <td>Ziggy Marley</td>\n",
       "      <td>Good Old Days</td>\n",
       "      <td>/z/ziggy+marley/good+old+days_10198588.html</td>\n",
       "      <td>Irie days come on play  \\r\\nLet the angels fly...</td>\n",
       "    </tr>\n",
       "    <tr>\n",
       "      <th>57646</th>\n",
       "      <td>Ziggy Marley</td>\n",
       "      <td>Hand To Mouth</td>\n",
       "      <td>/z/ziggy+marley/hand+to+mouth_20531167.html</td>\n",
       "      <td>Power to the workers  \\r\\nMore power  \\r\\nPowe...</td>\n",
       "    </tr>\n",
       "    <tr>\n",
       "      <th>57647</th>\n",
       "      <td>Zwan</td>\n",
       "      <td>Come With Me</td>\n",
       "      <td>/z/zwan/come+with+me_20148981.html</td>\n",
       "      <td>all you need  \\r\\nis something i'll believe  \\...</td>\n",
       "    </tr>\n",
       "    <tr>\n",
       "      <th>57648</th>\n",
       "      <td>Zwan</td>\n",
       "      <td>Desire</td>\n",
       "      <td>/z/zwan/desire_20148986.html</td>\n",
       "      <td>northern star  \\r\\nam i frightened  \\r\\nwhere ...</td>\n",
       "    </tr>\n",
       "    <tr>\n",
       "      <th>57649</th>\n",
       "      <td>Zwan</td>\n",
       "      <td>Heartsong</td>\n",
       "      <td>/z/zwan/heartsong_20148991.html</td>\n",
       "      <td>come in  \\r\\nmake yourself at home  \\r\\ni'm a ...</td>\n",
       "    </tr>\n",
       "  </tbody>\n",
       "</table>\n",
       "</div>"
      ],
      "text/plain": [
       "             artist           song  \\\n",
       "57645  Ziggy Marley  Good Old Days   \n",
       "57646  Ziggy Marley  Hand To Mouth   \n",
       "57647          Zwan   Come With Me   \n",
       "57648          Zwan         Desire   \n",
       "57649          Zwan      Heartsong   \n",
       "\n",
       "                                              link  \\\n",
       "57645  /z/ziggy+marley/good+old+days_10198588.html   \n",
       "57646  /z/ziggy+marley/hand+to+mouth_20531167.html   \n",
       "57647           /z/zwan/come+with+me_20148981.html   \n",
       "57648                 /z/zwan/desire_20148986.html   \n",
       "57649              /z/zwan/heartsong_20148991.html   \n",
       "\n",
       "                                                    text  \n",
       "57645  Irie days come on play  \\r\\nLet the angels fly...  \n",
       "57646  Power to the workers  \\r\\nMore power  \\r\\nPowe...  \n",
       "57647  all you need  \\r\\nis something i'll believe  \\...  \n",
       "57648  northern star  \\r\\nam i frightened  \\r\\nwhere ...  \n",
       "57649  come in  \\r\\nmake yourself at home  \\r\\ni'm a ...  "
      ]
     },
     "execution_count": 40,
     "metadata": {},
     "output_type": "execute_result"
    }
   ],
   "source": [
    "df.tail()"
   ]
  },
  {
   "cell_type": "code",
   "execution_count": 41,
   "metadata": {
    "colab": {
     "base_uri": "https://localhost:8080/"
    },
    "id": "YkgS8RR4KI85",
    "outputId": "41bbced3-d6eb-442a-ab86-69a8d76d3f2d"
   },
   "outputs": [
    {
     "data": {
      "text/plain": [
       "(57650, 4)"
      ]
     },
     "execution_count": 41,
     "metadata": {},
     "output_type": "execute_result"
    }
   ],
   "source": [
    "df.shape"
   ]
  },
  {
   "cell_type": "code",
   "execution_count": 42,
   "metadata": {
    "colab": {
     "base_uri": "https://localhost:8080/",
     "height": 209
    },
    "id": "YQ5CjwTQKufl",
    "outputId": "fb4f492f-4d02-4efc-a21b-600ff07b108b"
   },
   "outputs": [
    {
     "data": {
      "text/plain": [
       "artist    0\n",
       "song      0\n",
       "link      0\n",
       "text      0\n",
       "dtype: int64"
      ]
     },
     "execution_count": 42,
     "metadata": {},
     "output_type": "execute_result"
    }
   ],
   "source": [
    "df.isnull().sum()"
   ]
  },
  {
   "cell_type": "code",
   "execution_count": 43,
   "metadata": {
    "id": "UMowGzJO4pdC"
   },
   "outputs": [],
   "source": [
    "df =df.sample(5000).drop('link',axis =1).reset_index(drop=True)"
   ]
  },
  {
   "cell_type": "code",
   "execution_count": 44,
   "metadata": {
    "colab": {
     "base_uri": "https://localhost:8080/",
     "height": 206
    },
    "id": "NTqaexLw_jst",
    "outputId": "c03117b9-938b-48af-94a5-f82d6ca12bde"
   },
   "outputs": [
    {
     "data": {
      "text/html": [
       "<div>\n",
       "<style scoped>\n",
       "    .dataframe tbody tr th:only-of-type {\n",
       "        vertical-align: middle;\n",
       "    }\n",
       "\n",
       "    .dataframe tbody tr th {\n",
       "        vertical-align: top;\n",
       "    }\n",
       "\n",
       "    .dataframe thead th {\n",
       "        text-align: right;\n",
       "    }\n",
       "</style>\n",
       "<table border=\"1\" class=\"dataframe\">\n",
       "  <thead>\n",
       "    <tr style=\"text-align: right;\">\n",
       "      <th></th>\n",
       "      <th>artist</th>\n",
       "      <th>song</th>\n",
       "      <th>text</th>\n",
       "    </tr>\n",
       "  </thead>\n",
       "  <tbody>\n",
       "    <tr>\n",
       "      <th>0</th>\n",
       "      <td>Supertramp</td>\n",
       "      <td>Don't Leave Me Now</td>\n",
       "      <td>Don't leave me now  \\r\\nLeave me out in the po...</td>\n",
       "    </tr>\n",
       "    <tr>\n",
       "      <th>1</th>\n",
       "      <td>Loretta Lynn</td>\n",
       "      <td>Manhattan Kansas</td>\n",
       "      <td>Manhattan Kansas ain't no place to have a baby...</td>\n",
       "    </tr>\n",
       "    <tr>\n",
       "      <th>2</th>\n",
       "      <td>Michael Buble</td>\n",
       "      <td>Have Yourself A Merry Little Christmas</td>\n",
       "      <td>Have yourself a merry little Christmas  \\r\\nLe...</td>\n",
       "    </tr>\n",
       "    <tr>\n",
       "      <th>3</th>\n",
       "      <td>Blur</td>\n",
       "      <td>Trimm Trabb</td>\n",
       "      <td>I got no style  \\r\\nI'll take my time  \\r\\nAll...</td>\n",
       "    </tr>\n",
       "    <tr>\n",
       "      <th>4</th>\n",
       "      <td>Nitty Gritty Dirt Band</td>\n",
       "      <td>I've Been Looking</td>\n",
       "      <td>I've been lookin' for a love  \\r\\nSomeone to h...</td>\n",
       "    </tr>\n",
       "  </tbody>\n",
       "</table>\n",
       "</div>"
      ],
      "text/plain": [
       "                   artist                                    song  \\\n",
       "0              Supertramp                      Don't Leave Me Now   \n",
       "1            Loretta Lynn                        Manhattan Kansas   \n",
       "2           Michael Buble  Have Yourself A Merry Little Christmas   \n",
       "3                    Blur                             Trimm Trabb   \n",
       "4  Nitty Gritty Dirt Band                       I've Been Looking   \n",
       "\n",
       "                                                text  \n",
       "0  Don't leave me now  \\r\\nLeave me out in the po...  \n",
       "1  Manhattan Kansas ain't no place to have a baby...  \n",
       "2  Have yourself a merry little Christmas  \\r\\nLe...  \n",
       "3  I got no style  \\r\\nI'll take my time  \\r\\nAll...  \n",
       "4  I've been lookin' for a love  \\r\\nSomeone to h...  "
      ]
     },
     "execution_count": 44,
     "metadata": {},
     "output_type": "execute_result"
    }
   ],
   "source": [
    "df.head(5)"
   ]
  },
  {
   "cell_type": "code",
   "execution_count": 45,
   "metadata": {
    "colab": {
     "base_uri": "https://localhost:8080/",
     "height": 145
    },
    "id": "ng4Qymxs_oBX",
    "outputId": "75b71cd1-dd3b-47c8-e279-7391c83b89ee"
   },
   "outputs": [
    {
     "data": {
      "text/plain": [
       "\"Don't leave me now  \\r\\nLeave me out in the pouring rain  \\r\\nWith my back against the wall  \\r\\nDon't leave me now  \\r\\nDon't leave me now  \\r\\nLeave me out with nowhere to go  \\r\\nAnd the shadows start to fall  \\r\\nDon't leave me now  \\r\\nDon't leave me now  \\r\\nLeave me out on this lonely road  \\r\\nAs the wind begins to howl  \\r\\nDon't leave me now  \\r\\nDon't leave me now  \\r\\nAll alone on this darkest night  \\r\\nFeeling old and cold and grey  \\r\\nDon't leave me now  \\r\\n  \\r\\nDon't leave me now  \\r\\nLeave me holding an empty heart  \\r\\nAs the curtain starts to fall  \\r\\nDon't leave me now  \\r\\nDon't leave me now  \\r\\nAll alone in this crazy world  \\r\\nWhen I'm old and cold and grey and time is gone\\r\\n\\r\\n\""
      ]
     },
     "execution_count": 45,
     "metadata": {},
     "output_type": "execute_result"
    }
   ],
   "source": [
    "df['text'][0]"
   ]
  },
  {
   "cell_type": "code",
   "execution_count": 46,
   "metadata": {
    "colab": {
     "base_uri": "https://localhost:8080/"
    },
    "id": "XsdXpuBZAJiZ",
    "outputId": "1b08a825-211f-4d44-d64e-525604d863e5"
   },
   "outputs": [
    {
     "data": {
      "text/plain": [
       "(5000, 3)"
      ]
     },
     "execution_count": 46,
     "metadata": {},
     "output_type": "execute_result"
    }
   ],
   "source": [
    "df.shape"
   ]
  },
  {
   "cell_type": "markdown",
   "metadata": {
    "id": "sOcLDWF_AUey"
   },
   "source": [
    "### Text Cleaning"
   ]
  },
  {
   "cell_type": "code",
   "execution_count": 47,
   "metadata": {
    "id": "t9ZmyQrNAMOe"
   },
   "outputs": [],
   "source": [
    "df['text'] = df['text'].str.lower().replace(r'^\\w\\s',' ').replace(r'\\n',' ',regex=True)"
   ]
  },
  {
   "cell_type": "code",
   "execution_count": 48,
   "metadata": {
    "colab": {
     "base_uri": "https://localhost:8080/",
     "height": 206
    },
    "id": "12O-WFDkAt84",
    "outputId": "197b7145-f473-4d72-cb5e-768e30d436de"
   },
   "outputs": [
    {
     "data": {
      "text/html": [
       "<div>\n",
       "<style scoped>\n",
       "    .dataframe tbody tr th:only-of-type {\n",
       "        vertical-align: middle;\n",
       "    }\n",
       "\n",
       "    .dataframe tbody tr th {\n",
       "        vertical-align: top;\n",
       "    }\n",
       "\n",
       "    .dataframe thead th {\n",
       "        text-align: right;\n",
       "    }\n",
       "</style>\n",
       "<table border=\"1\" class=\"dataframe\">\n",
       "  <thead>\n",
       "    <tr style=\"text-align: right;\">\n",
       "      <th></th>\n",
       "      <th>artist</th>\n",
       "      <th>song</th>\n",
       "      <th>text</th>\n",
       "    </tr>\n",
       "  </thead>\n",
       "  <tbody>\n",
       "    <tr>\n",
       "      <th>4995</th>\n",
       "      <td>Ella Fitzgerald</td>\n",
       "      <td>Blue Skies</td>\n",
       "      <td>blue skies smilin' at me  \\r nothin' but blue ...</td>\n",
       "    </tr>\n",
       "    <tr>\n",
       "      <th>4996</th>\n",
       "      <td>Red Hot Chili Peppers</td>\n",
       "      <td>If You Have To Ask</td>\n",
       "      <td>a want to be gangster  \\r thinkin' he's a wise...</td>\n",
       "    </tr>\n",
       "    <tr>\n",
       "      <th>4997</th>\n",
       "      <td>Arrogant Worms</td>\n",
       "      <td>I Am Not American</td>\n",
       "      <td>i am not american,  \\r though i live in north ...</td>\n",
       "    </tr>\n",
       "    <tr>\n",
       "      <th>4998</th>\n",
       "      <td>Unkle</td>\n",
       "      <td>Hold My Hand</td>\n",
       "      <td>hold my hand  \\r i need you now  \\r slow me do...</td>\n",
       "    </tr>\n",
       "    <tr>\n",
       "      <th>4999</th>\n",
       "      <td>Proclaimers</td>\n",
       "      <td>Everybody's A Victim</td>\n",
       "      <td>everybody's a victim  \\r seems we're going tha...</td>\n",
       "    </tr>\n",
       "  </tbody>\n",
       "</table>\n",
       "</div>"
      ],
      "text/plain": [
       "                     artist                  song  \\\n",
       "4995        Ella Fitzgerald            Blue Skies   \n",
       "4996  Red Hot Chili Peppers    If You Have To Ask   \n",
       "4997         Arrogant Worms     I Am Not American   \n",
       "4998                  Unkle          Hold My Hand   \n",
       "4999            Proclaimers  Everybody's A Victim   \n",
       "\n",
       "                                                   text  \n",
       "4995  blue skies smilin' at me  \\r nothin' but blue ...  \n",
       "4996  a want to be gangster  \\r thinkin' he's a wise...  \n",
       "4997  i am not american,  \\r though i live in north ...  \n",
       "4998  hold my hand  \\r i need you now  \\r slow me do...  \n",
       "4999  everybody's a victim  \\r seems we're going tha...  "
      ]
     },
     "execution_count": 48,
     "metadata": {},
     "output_type": "execute_result"
    }
   ],
   "source": [
    "df.tail(5)"
   ]
  },
  {
   "cell_type": "code",
   "execution_count": 49,
   "metadata": {
    "id": "w_4fjuImCrzo"
   },
   "outputs": [],
   "source": [
    "import nltk\n",
    "from nltk.stem.porter import PorterStemmer\n",
    "stemmer = PorterStemmer()"
   ]
  },
  {
   "cell_type": "code",
   "execution_count": 50,
   "metadata": {
    "id": "ImUP4IUIC5Qg"
   },
   "outputs": [],
   "source": [
    "def token(txt):\n",
    "  token = nltk.word_tokenize(txt)\n",
    "  a =[stemmer.stem(w) for w in token]\n",
    "  return \" \".join(a)"
   ]
  },
  {
   "cell_type": "code",
   "execution_count": 51,
   "metadata": {
    "colab": {
     "base_uri": "https://localhost:8080/"
    },
    "id": "6C6Hp7KID7lg",
    "outputId": "f0ef5295-387d-4547-b218-abc9d378e7bb"
   },
   "outputs": [
    {
     "name": "stderr",
     "output_type": "stream",
     "text": [
      "[nltk_data] Downloading package punkt to\n",
      "[nltk_data]     C:\\Users\\saite\\AppData\\Roaming\\nltk_data...\n",
      "[nltk_data]   Package punkt is already up-to-date!\n"
     ]
    },
    {
     "data": {
      "text/plain": [
       "True"
      ]
     },
     "execution_count": 51,
     "metadata": {},
     "output_type": "execute_result"
    }
   ],
   "source": [
    "nltk.download('punkt')"
   ]
  },
  {
   "cell_type": "code",
   "execution_count": 52,
   "metadata": {
    "colab": {
     "base_uri": "https://localhost:8080/",
     "height": 36
    },
    "id": "9vtWQFBuDpuQ",
    "outputId": "deaf0424-1b07-4ee6-d62a-f785cfb4152a"
   },
   "outputs": [
    {
     "data": {
      "text/plain": [
       "'you are beauti , beauti'"
      ]
     },
     "execution_count": 52,
     "metadata": {},
     "output_type": "execute_result"
    }
   ],
   "source": [
    "token(\"you are beautiful, beauty\")"
   ]
  },
  {
   "cell_type": "code",
   "execution_count": 53,
   "metadata": {
    "colab": {
     "base_uri": "https://localhost:8080/",
     "height": 458
    },
    "id": "WQi_GdlvELp7",
    "outputId": "45a974a8-39c1-4ca8-bcb0-fabd764e96e1"
   },
   "outputs": [
    {
     "data": {
      "text/plain": [
       "0       do n't leav me now leav me out in the pour rai...\n",
       "1       manhattan kansa ai n't no place to have a babi...\n",
       "2       have yourself a merri littl christma let your ...\n",
       "3       i got no style i 'll take my time all those lo...\n",
       "4       i 've been lookin ' for a love someon to hold ...\n",
       "                              ...                        \n",
       "4995    blue sky smilin ' at me nothin ' but blue sky ...\n",
       "4996    a want to be gangster thinkin ' he 's a wise g...\n",
       "4997    i am not american , though i live in north ame...\n",
       "4998    hold my hand i need you now slow me down i do ...\n",
       "4999    everybodi 's a victim seem we 're go that way ...\n",
       "Name: text, Length: 5000, dtype: object"
      ]
     },
     "execution_count": 53,
     "metadata": {},
     "output_type": "execute_result"
    }
   ],
   "source": [
    "df['text'].apply(lambda x:token(x))"
   ]
  },
  {
   "cell_type": "code",
   "execution_count": 54,
   "metadata": {
    "id": "-hXXtJLIEG1J"
   },
   "outputs": [],
   "source": [
    "from sklearn.feature_extraction.text import TfidfVectorizer\n",
    "from sklearn.metrics.pairwise import cosine_similarity\n"
   ]
  },
  {
   "cell_type": "code",
   "execution_count": 55,
   "metadata": {
    "id": "1z1pyYS6EKO5"
   },
   "outputs": [],
   "source": [
    "tfid =TfidfVectorizer(analyzer='word',stop_words='english')"
   ]
  },
  {
   "cell_type": "code",
   "execution_count": 56,
   "metadata": {
    "id": "UzIiiS7_EKMM"
   },
   "outputs": [],
   "source": [
    "matrix = tfid.fit_transform(df['text'])"
   ]
  },
  {
   "cell_type": "code",
   "execution_count": 57,
   "metadata": {
    "colab": {
     "base_uri": "https://localhost:8080/"
    },
    "id": "6_JwkQH6EKJd",
    "outputId": "018e96c0-c402-44c4-f0a1-89e958590326"
   },
   "outputs": [
    {
     "data": {
      "text/plain": [
       "array([[1.        , 0.00184662, 0.00166284, ..., 0.        , 0.04127283,\n",
       "        0.00613179],\n",
       "       [0.00184662, 1.        , 0.0035468 , ..., 0.01265622, 0.        ,\n",
       "        0.0075968 ],\n",
       "       [0.00166284, 0.0035468 , 1.        , ..., 0.00309261, 0.00273087,\n",
       "        0.0014087 ],\n",
       "       ...,\n",
       "       [0.        , 0.01265622, 0.00309261, ..., 1.        , 0.00122994,\n",
       "        0.01128518],\n",
       "       [0.04127283, 0.        , 0.00273087, ..., 0.00122994, 1.        ,\n",
       "        0.0143529 ],\n",
       "       [0.00613179, 0.0075968 , 0.0014087 , ..., 0.01128518, 0.0143529 ,\n",
       "        1.        ]])"
      ]
     },
     "execution_count": 57,
     "metadata": {},
     "output_type": "execute_result"
    }
   ],
   "source": [
    "cosine_similarity(matrix)"
   ]
  },
  {
   "cell_type": "code",
   "execution_count": 58,
   "metadata": {
    "id": "op_cWH31E_er"
   },
   "outputs": [],
   "source": [
    "similer = cosine_similarity(matrix)"
   ]
  },
  {
   "cell_type": "code",
   "execution_count": 59,
   "metadata": {
    "colab": {
     "base_uri": "https://localhost:8080/"
    },
    "id": "EIRSOrw7FMvk",
    "outputId": "37c462e0-317d-4be5-996c-01c1e000ceed"
   },
   "outputs": [
    {
     "data": {
      "text/plain": [
       "array([1.        , 0.00184662, 0.00166284, ..., 0.        , 0.04127283,\n",
       "       0.00613179])"
      ]
     },
     "execution_count": 59,
     "metadata": {},
     "output_type": "execute_result"
    }
   ],
   "source": [
    "similer[0]"
   ]
  },
  {
   "cell_type": "markdown",
   "metadata": {
    "id": "xgbss4U4GATj"
   },
   "source": [
    "### Recommender Function"
   ]
  },
  {
   "cell_type": "code",
   "execution_count": 60,
   "metadata": {
    "id": "T8vZwiroFpor"
   },
   "outputs": [],
   "source": [
    "def recommender(song_name):\n",
    "  idx = df[df['song'] == song_name].index[0]\n",
    "  distance = sorted(list(enumerate(similer[idx])),reverse=True,key=lambda x:x[1])\n",
    "  song = []\n",
    "\n",
    "  for s_id in distance[1:5]:\n",
    "    song.append(df.iloc[s_id[0]].song)\n",
    "  return song"
   ]
  },
  {
   "cell_type": "code",
   "execution_count": 61,
   "metadata": {
    "id": "fL37sVJMGv_M"
   },
   "outputs": [],
   "source": [
    "import pickle"
   ]
  },
  {
   "cell_type": "code",
   "execution_count": 68,
   "metadata": {},
   "outputs": [
    {
     "name": "stderr",
     "output_type": "stream",
     "text": [
      "[nltk_data] Downloading package punkt to\n",
      "[nltk_data]     C:\\Users\\saite\\AppData\\Roaming\\nltk_data...\n",
      "[nltk_data]   Package punkt is already up-to-date!\n"
     ]
    }
   ],
   "source": [
    "import pandas as pd\n",
    "from sklearn.feature_extraction.text import TfidfVectorizer\n",
    "from sklearn.metrics.pairwise import cosine_similarity\n",
    "import nltk\n",
    "from nltk.stem.porter import PorterStemmer\n",
    "import pickle\n",
    "\n",
    "# Load and preprocess data\n",
    "df = pd.read_csv(\"spotify_millsongdata.csv\")\n",
    "df = df.sample(5000).drop('link', axis=1).reset_index(drop=True)\n",
    "\n",
    "# Text Cleaning\n",
    "df['text'] = df['text'].str.lower().replace(r'^\\w\\s', ' ').replace(r'\\n', ' ', regex=True)\n",
    "nltk.download('punkt')\n",
    "stemmer = PorterStemmer()\n",
    "\n",
    "def token(txt):\n",
    "    tokenized = nltk.word_tokenize(txt)\n",
    "    stemmed = [stemmer.stem(w) for w in tokenized]\n",
    "    return \" \".join(stemmed)\n",
    "\n",
    "df['text'] = df['text'].apply(lambda x: token(x))\n",
    "\n",
    "# Vectorize and calculate similarity\n",
    "tfid = TfidfVectorizer(analyzer='word', stop_words='english')\n",
    "matrix = tfid.fit_transform(df['text'])\n",
    "similarity = cosine_similarity(matrix)\n",
    "\n",
    "# Save similarity and df as .pkl files\n",
    "with open('similarity.pkl', 'wb') as f:\n",
    "    pickle.dump(similarity, f)\n",
    "\n",
    "with open('df.pkl', 'wb') as f:\n",
    "    pickle.dump(df, f)\n"
   ]
  }
 ],
 "metadata": {
  "colab": {
   "provenance": []
  },
  "kernelspec": {
   "display_name": "base",
   "language": "python",
   "name": "python3"
  },
  "language_info": {
   "codemirror_mode": {
    "name": "ipython",
    "version": 3
   },
   "file_extension": ".py",
   "mimetype": "text/x-python",
   "name": "python",
   "nbconvert_exporter": "python",
   "pygments_lexer": "ipython3",
   "version": "3.12.4"
  }
 },
 "nbformat": 4,
 "nbformat_minor": 0
}
